{
 "cells": [
  {
   "cell_type": "markdown",
   "metadata": {},
   "source": [
    "!MEArec\n",
    "\n",
    "0) pip install scikit-learn\t\n",
    "0) pip install jupyter\t\n",
    "1) pip install MEArec\t\n",
    "2) Install NEURON (https://neuron.yale.edu/neuron/) \t\n",
    "3) pip install LFPy\t\n",
    "4) Install MPI 10.0 (https://www.microsoft.com/en-us/download/details.aspx?id=57467)\t\n",
    "5) Maybe need to Download Microsoft Visual Studio 2017 installer (https://www.techspot.com/downloads/6278-visual-studio.html)\t\n",
    "6) Maybe need to Install Microsoft Visual Studio Community 2017 components \t\n",
    "\t* Static analysis tools\n",
    "\t* NuGet package manager\n",
    "\t* VC++ 2017 version 15.9v14.16 latest v141 tools\n",
    "\t* Windows 10 SDK (10.0.17763.0)\n",
    "\t* Visual C++ ATL for x86 and x64\n",
    "\t* VC++ 2015.3 v14.00 (v140) toolset for desktop\n",
    "\t* Testing tools core features\n",
    "\t* Visual C++ tools for CMAKE and Linux\n"
   ]
  },
  {
   "attachments": {},
   "cell_type": "markdown",
   "metadata": {},
   "source": [
    "#SpikeInterface\n",
    "\n",
    "git clone https://github.com/SpikeInterface/spikeinterface.git\n",
    "cd spikeinterface\n",
    "pip install .\n",
    "\n",
    "#There should be a pip install soon"
   ]
  },
  {
   "attachments": {},
   "cell_type": "markdown",
   "metadata": {},
   "source": [
    "#SpyKING Circus\n",
    "\n",
    "Make sure mpi4py is installed and MPI 10.0 (https://www.microsoft.com/en-us/download/details.aspx?id=57467)\n",
    "\n",
    "Add the mpi installation’s bin directory to the path (C:\\program files\\microsoft mpi\\bin)\n",
    "\n",
    "pip install spyking-circus\n",
    "\n",
    "\n",
    "if __name__=='__main__\n",
    "\n"
   ]
  },
  {
   "cell_type": "markdown",
   "metadata": {},
   "source": [
    "#Klusta\n",
    "\n",
    "pip install Cython h5py tqdm\n",
    "pip install click klusta klustakwik2"
   ]
  },
  {
   "cell_type": "markdown",
   "metadata": {},
   "source": [
    "#Other Sorters\n",
    "\n",
    "https://spikeinterface.readthedocs.io/en/latest/sortersinfo.html"
   ]
  },
  {
   "cell_type": "code",
   "execution_count": null,
   "metadata": {},
   "outputs": [],
   "source": []
  }
 ],
 "metadata": {
  "kernelspec": {
   "display_name": "Python 3",
   "language": "python",
   "name": "python3"
  },
  "language_info": {
   "codemirror_mode": {
    "name": "ipython",
    "version": 3
   },
   "file_extension": ".py",
   "mimetype": "text/x-python",
   "name": "python",
   "nbconvert_exporter": "python",
   "pygments_lexer": "ipython3",
   "version": "3.7.4"
  }
 },
 "nbformat": 4,
 "nbformat_minor": 2
}
