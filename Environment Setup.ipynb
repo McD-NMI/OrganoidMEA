{
 "cells": [
  {
   "cell_type": "markdown",
   "metadata": {},
   "source": [
    "# Initial Setup\n",
    "\n",
    "My setup us using **PyCharm 20019.2.1 (Community Edition)** in Windows 10\n",
    "\n",
    "1) I cloned the repository **McD-NMI/OrganoidMEA** from GitHub to the PyCharm Projects folder (C:\\Users\\McDonaldMatthew\\PycharmProjects) \n",
    "\n",
    "2) I set up a new virtual enviroment in PyCharm using Python 3.7.4 (64-bit) as my interpreter. \n",
    "\n",
    "3) I upgraded pip to the latest version using `python -m pip install --upgrade pip` in the PyCharm terminal\n",
    "\n",
    "4) I installed jupyter notebooks by running `pip install jupyter` in the PyCharm terminal\n",
    "\n",
    "5) I ran jupyter notebooks in the browser so I could properly see this notebook by running `jupyter notebook` in the PyCharm terminal\n",
    "\n",
    "6) I opened up *Environment Setup.ipynb*  to see this document\n",
    "\n",
    "\n"
   ]
  },
  {
   "cell_type": "markdown",
   "metadata": {},
   "source": [
    "# MEArec\n",
    "\n",
    "To get MEArec package to work, I took the following steps to set up my environment. MEAutility with is used to define the probe is included in this package. \n",
    "\n",
    "\n",
    "1) `pip install MEArec`\n",
    "\n",
    "2) Install NEURON (https://neuron.yale.edu/neuron/) by downloading and runnign the setup file. \n",
    "\n",
    "3) `pip install LFPy`\t\n",
    "\n",
    "4) Install MPI 10.0 (https://www.microsoft.com/en-us/download/details.aspx?id=57467) by downloading and running both **msmpisdk.msi** and **msmpisetup.exe**\n",
    "\n",
    "5) I had an error that seemed to be related to Microsoft Visual Studio and found a fix by installing  Microsoft Visual Studio 2017. \n",
    "\n",
    " *error: Microsoft Visual C++ 14.0 is required. Get it with \"Microsoft Visual C++ Build Tools\": https://visualstudio.microsoft.com/downloads/*\n",
    "\n",
    "\n",
    "However, I have since entirely removed Visual Studio 2017 and everything seems to run fine... so you probably don't need this. However, in case you encounter this error, here is how I fixed it. \n",
    "\n",
    "Download **Microsoft Visual Studio 2017** (https://www.techspot.com/downloads/6278-visual-studio.html)\t\n",
    "\n",
    "*Note: 2019 version does not seem to work!*\n",
    "\n",
    "Install the following components:\n",
    "\t- Static analysis tools***\n",
    "    \n",
    "\t- NuGet package manager\n",
    "    \n",
    "\t- VC++ 2017 version 15.9v14.16 latest v141 tools \n",
    "    \n",
    "\t- Windows 10 SDK (10.0.17763.0)\n",
    "    \n",
    "\t- Visual C++ ATL for x86 and x64 \n",
    "    \n",
    "\t- VC++ 2015.3 v14.00 (v140) toolset for desktop \n",
    "    \n",
    "\t- Testing tools core features \n",
    "    \n",
    "\t- Visual C++ tools for CMAKE and Linux \n",
    "    \n",
    "\n",
    "6) Finally, to see some of the graphs used in MEArec, you need scikit-learn: `pip install scikit-learn`\n",
    "\n",
    "**Note:** Another wierd thing with MEArec package in windows, seems to be that when running **Template Generator** or **Recording Generator**, (`gen_templates()`, `gen_recordings()`) there are some errors with recursive calling. To fix this, you need to start your script with:  \n",
    "\n",
    "`if __name__ == '__main__':`\n",
    "\n",
    "and then write your script into a function, and call that function. \n"
   ]
  },
  {
   "cell_type": "markdown",
   "metadata": {},
   "source": [
    "# SpikeInterface\n",
    "\n",
    "There sohuld soon be a pip install for this, but until then, you need to do a git clone. \n",
    "\n",
    "`git clone https://github.com/SpikeInterface/spikeinterface.git`\n",
    "\n",
    "`cd spikeinterface`\n",
    "\n",
    "`pip install .`\n",
    "\n"
   ]
  },
  {
   "cell_type": "markdown",
   "metadata": {},
   "source": [
    "# SpyKING Circus\n",
    "\n",
    "\n",
    "1) Make sure MPI 10.0 is installed, as well as mpi4py (see MEArec install instructions)\n",
    "\n",
    "2) Add the mpi installation’s bin directory to the path (C:\\program files\\microsoft mpi\\bin). This should normally be done automatically, but good to check that it has been. \n",
    "\n",
    "3) pip install spyking-circus\n",
    "\n",
    "\n",
    "\n"
   ]
  },
  {
   "cell_type": "markdown",
   "metadata": {},
   "source": [
    "# Klusta\n",
    "\n",
    "`pip install Cython h5py tqdm`\n",
    "\n",
    "`pip install click klusta klustakwik2`\n",
    "\n",
    "This install seems to requite the Microsoft Visual Studio 14. See the fix in **MEArec** cell\n"
   ]
  },
  {
   "cell_type": "markdown",
   "metadata": {},
   "source": [
    "# Other Sorters\n",
    "\n",
    "https://spikeinterface.readthedocs.io/en/latest/sortersinfo.html"
   ]
  },
  {
   "cell_type": "code",
   "execution_count": null,
   "metadata": {},
   "outputs": [],
   "source": []
  }
 ],
 "metadata": {
  "kernelspec": {
   "display_name": "Python 3",
   "language": "python",
   "name": "python3"
  },
  "language_info": {
   "codemirror_mode": {
    "name": "ipython",
    "version": 3
   },
   "file_extension": ".py",
   "mimetype": "text/x-python",
   "name": "python",
   "nbconvert_exporter": "python",
   "pygments_lexer": "ipython3",
   "version": "3.7.4"
  }
 },
 "nbformat": 4,
 "nbformat_minor": 2
}
